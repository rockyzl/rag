{
 "cells": [],
 "metadata": {
  "kernelspec": {
   "display_name": "Python (venv_lz)",
   "language": "python",
   "name": "venv_lz"
  },
  "language_info": {
   "name": "python",
   "version": "3.9.13"
  }
 },
 "nbformat": 4,
 "nbformat_minor": 2
}
